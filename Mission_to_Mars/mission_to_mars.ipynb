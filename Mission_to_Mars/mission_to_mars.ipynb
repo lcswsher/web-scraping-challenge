{
 "cells": [
  {
   "cell_type": "code",
   "execution_count": 138,
   "id": "2b718737-c52c-43c8-afc6-398c8e29106d",
   "metadata": {},
   "outputs": [],
   "source": [
    "import pandas as pd\n",
    "import requests\n",
    "from splinter import Browser\n",
    "from bs4 import BeautifulSoup\n",
    "from flask import Flask, render_template, redirect, url_for\n",
    "from flask_pymongo import PyMongo\n",
    "import pymongo\n",
    "import datetime\n",
    "from webdriver_manager.chrome import ChromeDriverManager"
   ]
  },
  {
   "cell_type": "code",
   "execution_count": 139,
   "id": "28d1a9ad-ee1e-4064-ab1e-c1039fe57c72",
   "metadata": {},
   "outputs": [
    {
     "name": "stderr",
     "output_type": "stream",
     "text": [
      "\n",
      "\n",
      "====== WebDriver manager ======\n",
      "Current google-chrome version is 91.0.4472\n",
      "Get LATEST driver version for 91.0.4472\n",
      "Driver [C:\\Users\\lcswi\\.wdm\\drivers\\chromedriver\\win32\\91.0.4472.101\\chromedriver.exe] found in cache\n"
     ]
    }
   ],
   "source": [
    "# to setup splinter\n",
    "executable_path = {'executable_path': ChromeDriverManager().install()}\n",
    "browser = Browser('chrome', **executable_path, headless=False)"
   ]
  },
  {
   "cell_type": "markdown",
   "id": "775c98d0-6eaf-4942-ae53-34d599084b9d",
   "metadata": {},
   "source": [
    "## NASA Mars News - Scrape the Mars News Site and collect the latest News Title and Paragraph Text"
   ]
  },
  {
   "cell_type": "code",
   "execution_count": 140,
   "id": "e445be2b-af47-41c4-ab11-c55d62566da0",
   "metadata": {},
   "outputs": [],
   "source": [
    "# URL of page to be scraped\n",
    "url = 'https://redplanetscience.com/'\n",
    "browser.visit(url)"
   ]
  },
  {
   "cell_type": "code",
   "execution_count": 141,
   "id": "85c9461f-edb2-4f96-84ae-3a53dfb5ac81",
   "metadata": {},
   "outputs": [],
   "source": [
    "html = browser.html\n",
    "# Create BeautifulSoup object; parse with 'html.parser'\n",
    "soup = BeautifulSoup(html, 'html.parser')"
   ]
  },
  {
   "cell_type": "code",
   "execution_count": 142,
   "id": "ec101402-e7cf-4545-8dc8-4df0b8570712",
   "metadata": {},
   "outputs": [
    {
     "name": "stdout",
     "output_type": "stream",
     "text": [
      "NASA's Perseverance Rover Mission Getting in Shape for Launch\n",
      "---------------------------------------------------------------------------\n",
      "Stacking spacecraft components on top of each other is one of the final assembly steps before a mission launches to the Red Planet. \n"
     ]
    }
   ],
   "source": [
    "news_title = soup.find_all('div', class_='content_title')[0].text\n",
    "news_p = soup.find_all('div', class_='article_teaser_body')[0].text\n",
    "\n",
    "print(news_title)\n",
    "print('---------------------------------------------------------------------------')\n",
    "print(news_p)"
   ]
  },
  {
   "cell_type": "markdown",
   "id": "c2ff75bd-ea32-4cea-a84f-fc912aa6ba41",
   "metadata": {},
   "source": [
    "## JPL Mars Space Images - Featured Image "
   ]
  },
  {
   "cell_type": "code",
   "execution_count": 143,
   "id": "127e5dd6-2ba6-4325-bb21-94e3ff8818c4",
   "metadata": {},
   "outputs": [],
   "source": [
    "# URL of page to be scraped\n",
    "url = 'https://spaceimages-mars.com/'\n",
    "browser.visit(url)"
   ]
  },
  {
   "cell_type": "code",
   "execution_count": 144,
   "id": "4b85bb9e-6505-40c4-b6e1-31b815e06f0c",
   "metadata": {},
   "outputs": [],
   "source": [
    "# Create BeautifulSoup object; parse with 'html.parser'\n",
    "html = browser.html\n",
    "soup_JPL = BeautifulSoup(html, 'html.parser')"
   ]
  },
  {
   "cell_type": "code",
   "execution_count": 145,
   "id": "0a6fd108-5509-4868-b8a8-7aeb35abee38",
   "metadata": {},
   "outputs": [
    {
     "name": "stdout",
     "output_type": "stream",
     "text": [
      "https://spaceimages-mars.com/image/featured/mars2.jpg\n"
     ]
    }
   ],
   "source": [
    "# identify and return the url string for the featured_image_url \n",
    "image_path = soup_JPL.find_all('img')[1]['src']\n",
    "featured_image_url = url + image_path\n",
    "print(featured_image_url)"
   ]
  },
  {
   "cell_type": "markdown",
   "id": "35cbab3d-c119-44f8-841f-0455631e95a7",
   "metadata": {},
   "source": [
    "## MARS Facts - Table Mars facts including diameter, mass, etc"
   ]
  },
  {
   "cell_type": "code",
   "execution_count": 194,
   "id": "b612abf8-3a39-4c0f-a15a-7251b3a37200",
   "metadata": {},
   "outputs": [
    {
     "data": {
      "text/html": [
       "<div>\n",
       "<style scoped>\n",
       "    .dataframe tbody tr th:only-of-type {\n",
       "        vertical-align: middle;\n",
       "    }\n",
       "\n",
       "    .dataframe tbody tr th {\n",
       "        vertical-align: top;\n",
       "    }\n",
       "\n",
       "    .dataframe thead th {\n",
       "        text-align: right;\n",
       "    }\n",
       "</style>\n",
       "<table border=\"1\" class=\"dataframe\">\n",
       "  <thead>\n",
       "    <tr style=\"text-align: right;\">\n",
       "      <th></th>\n",
       "      <th>Mars-Earth Comparison</th>\n",
       "      <th>Mars</th>\n",
       "      <th>Earth</th>\n",
       "    </tr>\n",
       "  </thead>\n",
       "  <tbody>\n",
       "    <tr>\n",
       "      <th>1</th>\n",
       "      <td>Diameter:</td>\n",
       "      <td>6,779 km</td>\n",
       "      <td>12,742 km</td>\n",
       "    </tr>\n",
       "    <tr>\n",
       "      <th>2</th>\n",
       "      <td>Mass:</td>\n",
       "      <td>6.39 × 10^23 kg</td>\n",
       "      <td>5.97 × 10^24 kg</td>\n",
       "    </tr>\n",
       "    <tr>\n",
       "      <th>3</th>\n",
       "      <td>Moons:</td>\n",
       "      <td>2</td>\n",
       "      <td>1</td>\n",
       "    </tr>\n",
       "    <tr>\n",
       "      <th>4</th>\n",
       "      <td>Distance from Sun:</td>\n",
       "      <td>227,943,824 km</td>\n",
       "      <td>149,598,262 km</td>\n",
       "    </tr>\n",
       "    <tr>\n",
       "      <th>5</th>\n",
       "      <td>Length of Year:</td>\n",
       "      <td>687 Earth days</td>\n",
       "      <td>365.24 days</td>\n",
       "    </tr>\n",
       "    <tr>\n",
       "      <th>6</th>\n",
       "      <td>Temperature:</td>\n",
       "      <td>-87 to -5 °C</td>\n",
       "      <td>-88 to 58°C</td>\n",
       "    </tr>\n",
       "  </tbody>\n",
       "</table>\n",
       "</div>"
      ],
      "text/plain": [
       "  Mars-Earth Comparison             Mars            Earth\n",
       "1             Diameter:         6,779 km        12,742 km\n",
       "2                 Mass:  6.39 × 10^23 kg  5.97 × 10^24 kg\n",
       "3                Moons:                2                1\n",
       "4    Distance from Sun:   227,943,824 km   149,598,262 km\n",
       "5       Length of Year:   687 Earth days      365.24 days\n",
       "6          Temperature:     -87 to -5 °C      -88 to 58°C"
      ]
     },
     "execution_count": 194,
     "metadata": {},
     "output_type": "execute_result"
    }
   ],
   "source": [
    "# We can use the read_html function in Pandas to automatically scrape any tabular data from a page.\n",
    "url = 'https://galaxyfacts-mars.com'\n",
    "tables = pd.read_html(url)\n",
    "table = tables[0]\n",
    "table.columns = ['Mars-Earth Comparison', 'Mars', 'Earth']\n",
    "Mars_Table = table.drop(index=0)\n",
    "Mars_Table"
   ]
  },
  {
   "cell_type": "code",
   "execution_count": 203,
   "id": "0ce5aa76-6e61-4800-9f4b-33cb7c626ba6",
   "metadata": {},
   "outputs": [
    {
     "data": {
      "text/plain": [
       "'<table border=\"1\" class=\"dataframe\">  <thead>    <tr style=\"text-align: right;\">      <th></th>      <th>Mars-Earth Comparison</th>      <th>Mars</th>      <th>Earth</th>    </tr>  </thead>  <tbody>    <tr>      <th>1</th>      <td>Diameter:</td>      <td>6,779 km</td>      <td>12,742 km</td>    </tr>    <tr>      <th>2</th>      <td>Mass:</td>      <td>6.39 × 10^23 kg</td>      <td>5.97 × 10^24 kg</td>    </tr>    <tr>      <th>3</th>      <td>Moons:</td>      <td>2</td>      <td>1</td>    </tr>    <tr>      <th>4</th>      <td>Distance from Sun:</td>      <td>227,943,824 km</td>      <td>149,598,262 km</td>    </tr>    <tr>      <th>5</th>      <td>Length of Year:</td>      <td>687 Earth days</td>      <td>365.24 days</td>    </tr>    <tr>      <th>6</th>      <td>Temperature:</td>      <td>-87 to -5 °C</td>      <td>-88 to 58°C</td>    </tr>  </tbody></table>'"
      ]
     },
     "execution_count": 203,
     "metadata": {},
     "output_type": "execute_result"
    }
   ],
   "source": [
    "# comparison table converted from dataframe to html table (note: all \"\\n\" - unwanted news lines, have been dropped from html table)\n",
    "html_table = Mars_Table.to_html()\n",
    "clean_html_table = html_table.replace('\\n', '')\n",
    "clean_html_table"
   ]
  },
  {
   "cell_type": "code",
   "execution_count": 201,
   "id": "61d47750-3628-43ed-9583-6229227ab598",
   "metadata": {},
   "outputs": [],
   "source": [
    "# Saving the Mars Earth Comparison table directly to an HTML table string called \"table.html\"\n",
    "Mars_Table_HTML = Mars_Table.to_html('table.html')"
   ]
  },
  {
   "cell_type": "code",
   "execution_count": null,
   "id": "d48887e3-18a8-4f8a-884e-d69973e61394",
   "metadata": {},
   "outputs": [],
   "source": []
  },
  {
   "cell_type": "code",
   "execution_count": null,
   "id": "c3c1bd26-5b59-4e88-8e41-d01b1a8552d4",
   "metadata": {},
   "outputs": [],
   "source": []
  }
 ],
 "metadata": {
  "kernelspec": {
   "display_name": "Python [conda env:root] *",
   "language": "python",
   "name": "conda-root-py"
  },
  "language_info": {
   "codemirror_mode": {
    "name": "ipython",
    "version": 3
   },
   "file_extension": ".py",
   "mimetype": "text/x-python",
   "name": "python",
   "nbconvert_exporter": "python",
   "pygments_lexer": "ipython3",
   "version": "3.8.5"
  }
 },
 "nbformat": 4,
 "nbformat_minor": 5
}
