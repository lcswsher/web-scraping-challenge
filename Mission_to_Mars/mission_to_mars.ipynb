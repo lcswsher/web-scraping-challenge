{
 "cells": [
  {
   "cell_type": "markdown",
   "id": "80643ac4-4692-4469-aeee-b88e8e0e89cc",
   "metadata": {},
   "source": [
    "## Dependencies"
   ]
  },
  {
   "cell_type": "code",
   "execution_count": 1,
   "id": "2b718737-c52c-43c8-afc6-398c8e29106d",
   "metadata": {},
   "outputs": [],
   "source": [
    "# Dependencies\n",
    "import pandas as pd\n",
    "import requests\n",
    "from splinter import Browser\n",
    "from bs4 import BeautifulSoup\n",
    "from flask import Flask, render_template, redirect, url_for\n",
    "from flask_pymongo import PyMongo\n",
    "import pymongo\n",
    "import datetime\n",
    "from webdriver_manager.chrome import ChromeDriverManager"
   ]
  },
  {
   "cell_type": "code",
   "execution_count": 2,
   "id": "28d1a9ad-ee1e-4064-ab1e-c1039fe57c72",
   "metadata": {},
   "outputs": [
    {
     "name": "stderr",
     "output_type": "stream",
     "text": [
      "\n",
      "\n",
      "====== WebDriver manager ======\n",
      "Current google-chrome version is 91.0.4472\n",
      "Get LATEST driver version for 91.0.4472\n",
      "Driver [C:\\Users\\lcswi\\.wdm\\drivers\\chromedriver\\win32\\91.0.4472.101\\chromedriver.exe] found in cache\n"
     ]
    }
   ],
   "source": [
    "# to setup splinter\n",
    "executable_path = {'executable_path': ChromeDriverManager().install()}\n",
    "browser = Browser('chrome', **executable_path, headless=False)"
   ]
  },
  {
   "cell_type": "markdown",
   "id": "775c98d0-6eaf-4942-ae53-34d599084b9d",
   "metadata": {},
   "source": [
    "## NASA Mars News - Scrape the Mars News Site and collect the latest News Title and Paragraph Text"
   ]
  },
  {
   "cell_type": "code",
   "execution_count": 3,
   "id": "e445be2b-af47-41c4-ab11-c55d62566da0",
   "metadata": {},
   "outputs": [],
   "source": [
    "# URL of page to be scraped\n",
    "url = 'https://redplanetscience.com/'\n",
    "browser.visit(url)"
   ]
  },
  {
   "cell_type": "code",
   "execution_count": 4,
   "id": "85c9461f-edb2-4f96-84ae-3a53dfb5ac81",
   "metadata": {},
   "outputs": [],
   "source": [
    "html = browser.html\n",
    "# Create BeautifulSoup object; parse with 'html.parser'\n",
    "soup = BeautifulSoup(html, 'html.parser')"
   ]
  },
  {
   "cell_type": "code",
   "execution_count": 5,
   "id": "ec101402-e7cf-4545-8dc8-4df0b8570712",
   "metadata": {},
   "outputs": [
    {
     "name": "stdout",
     "output_type": "stream",
     "text": [
      "HiRISE Views NASA's InSight and Curiosity on Mars\n",
      "---------------------------------------------------------------------------\n",
      "New images taken from space offer the clearest orbital glimpse yet of InSight as well as a view of Curiosity rolling along.\n"
     ]
    }
   ],
   "source": [
    "news_title = soup.find_all('div', class_='content_title')[0].text\n",
    "news_p = soup.find_all('div', class_='article_teaser_body')[0].text\n",
    "\n",
    "print(news_title)\n",
    "print('---------------------------------------------------------------------------')\n",
    "print(news_p)"
   ]
  },
  {
   "cell_type": "markdown",
   "id": "c2ff75bd-ea32-4cea-a84f-fc912aa6ba41",
   "metadata": {
    "tags": []
   },
   "source": [
    "## JPL Mars Space Images - Featured Image "
   ]
  },
  {
   "cell_type": "code",
   "execution_count": 6,
   "id": "127e5dd6-2ba6-4325-bb21-94e3ff8818c4",
   "metadata": {},
   "outputs": [],
   "source": [
    "# URL of page to be scraped\n",
    "url = 'https://spaceimages-mars.com/'\n",
    "browser.visit(url)"
   ]
  },
  {
   "cell_type": "code",
   "execution_count": 7,
   "id": "4b85bb9e-6505-40c4-b6e1-31b815e06f0c",
   "metadata": {},
   "outputs": [],
   "source": [
    "# Create BeautifulSoup object; parse with 'html.parser'\n",
    "html = browser.html\n",
    "soup_JPL = BeautifulSoup(html, 'html.parser')"
   ]
  },
  {
   "cell_type": "code",
   "execution_count": 8,
   "id": "0a6fd108-5509-4868-b8a8-7aeb35abee38",
   "metadata": {},
   "outputs": [
    {
     "name": "stdout",
     "output_type": "stream",
     "text": [
      "https://spaceimages-mars.com/image/featured/mars1.jpg\n"
     ]
    }
   ],
   "source": [
    "# identify and return the url string for the featured_image_url \n",
    "image_path = soup_JPL.find_all('img')[1]['src']\n",
    "featured_image_url = url + image_path\n",
    "print(featured_image_url)"
   ]
  },
  {
   "cell_type": "markdown",
   "id": "35cbab3d-c119-44f8-841f-0455631e95a7",
   "metadata": {},
   "source": [
    "## MARS Facts - Table Mars facts including diameter, mass, etc"
   ]
  },
  {
   "cell_type": "code",
   "execution_count": 9,
   "id": "b612abf8-3a39-4c0f-a15a-7251b3a37200",
   "metadata": {},
   "outputs": [
    {
     "data": {
      "text/html": [
       "<div>\n",
       "<style scoped>\n",
       "    .dataframe tbody tr th:only-of-type {\n",
       "        vertical-align: middle;\n",
       "    }\n",
       "\n",
       "    .dataframe tbody tr th {\n",
       "        vertical-align: top;\n",
       "    }\n",
       "\n",
       "    .dataframe thead th {\n",
       "        text-align: right;\n",
       "    }\n",
       "</style>\n",
       "<table border=\"1\" class=\"dataframe\">\n",
       "  <thead>\n",
       "    <tr style=\"text-align: right;\">\n",
       "      <th></th>\n",
       "      <th>Dimentions</th>\n",
       "    </tr>\n",
       "    <tr>\n",
       "      <th>Mars Planet Profile</th>\n",
       "      <th></th>\n",
       "    </tr>\n",
       "  </thead>\n",
       "  <tbody>\n",
       "    <tr>\n",
       "      <th>Polar Diameter:</th>\n",
       "      <td>6,752 km</td>\n",
       "    </tr>\n",
       "    <tr>\n",
       "      <th>Mass:</th>\n",
       "      <td>6.39 × 10^23 kg (0.11 Earths)</td>\n",
       "    </tr>\n",
       "    <tr>\n",
       "      <th>Moons:</th>\n",
       "      <td>2 ( Phobos &amp; Deimos )</td>\n",
       "    </tr>\n",
       "    <tr>\n",
       "      <th>Orbit Distance:</th>\n",
       "      <td>227,943,824 km (1.38 AU)</td>\n",
       "    </tr>\n",
       "    <tr>\n",
       "      <th>Orbit Period:</th>\n",
       "      <td>687 days (1.9 years)</td>\n",
       "    </tr>\n",
       "    <tr>\n",
       "      <th>Surface Temperature:</th>\n",
       "      <td>-87 to -5 °C</td>\n",
       "    </tr>\n",
       "    <tr>\n",
       "      <th>First Record:</th>\n",
       "      <td>2nd millennium BC</td>\n",
       "    </tr>\n",
       "    <tr>\n",
       "      <th>Recorded By:</th>\n",
       "      <td>Egyptian astronomers</td>\n",
       "    </tr>\n",
       "  </tbody>\n",
       "</table>\n",
       "</div>"
      ],
      "text/plain": [
       "                                         Dimentions\n",
       "Mars Planet Profile                                \n",
       "Polar Diameter:                            6,752 km\n",
       "Mass:                 6.39 × 10^23 kg (0.11 Earths)\n",
       "Moons:                        2 ( Phobos & Deimos )\n",
       "Orbit Distance:            227,943,824 km (1.38 AU)\n",
       "Orbit Period:                  687 days (1.9 years)\n",
       "Surface Temperature:                   -87 to -5 °C\n",
       "First Record:                     2nd millennium BC\n",
       "Recorded By:                   Egyptian astronomers"
      ]
     },
     "execution_count": 9,
     "metadata": {},
     "output_type": "execute_result"
    }
   ],
   "source": [
    "# We can use the read_html function in Pandas to automatically scrape any tabular data from a page.\n",
    "url = 'https://galaxyfacts-mars.com'\n",
    "tables = pd.read_html(url)\n",
    "table = tables[1]\n",
    "table.columns = ['Mars Planet Profile', \"Dimentions\"]\n",
    "Mars_Table = table.drop(index=0)\n",
    "Mars_Table.set_index('Mars Planet Profile', inplace=True)\n",
    "Mars_Table"
   ]
  },
  {
   "cell_type": "code",
   "execution_count": 10,
   "id": "0ce5aa76-6e61-4800-9f4b-33cb7c626ba6",
   "metadata": {},
   "outputs": [
    {
     "name": "stdout",
     "output_type": "stream",
     "text": [
      "<table border=\"1\" class=\"dataframe\">  <thead>    <tr style=\"text-align: right;\">      <th></th>      <th>Dimentions</th>    </tr>    <tr>      <th>Mars Planet Profile</th>      <th></th>    </tr>  </thead>  <tbody>    <tr>      <th>Polar Diameter:</th>      <td>6,752 km</td>    </tr>    <tr>      <th>Mass:</th>      <td>6.39 × 10^23 kg (0.11 Earths)</td>    </tr>    <tr>      <th>Moons:</th>      <td>2 ( Phobos &amp; Deimos )</td>    </tr>    <tr>      <th>Orbit Distance:</th>      <td>227,943,824 km (1.38 AU)</td>    </tr>    <tr>      <th>Orbit Period:</th>      <td>687 days (1.9 years)</td>    </tr>    <tr>      <th>Surface Temperature:</th>      <td>-87 to -5 °C</td>    </tr>    <tr>      <th>First Record:</th>      <td>2nd millennium BC</td>    </tr>    <tr>      <th>Recorded By:</th>      <td>Egyptian astronomers</td>    </tr>  </tbody></table>\n"
     ]
    }
   ],
   "source": [
    "# comparison table converted from dataframe to html table (note: all \"\\n\" - unwanted news lines, have been dropped from html table)\n",
    "html_table = Mars_Table.to_html()\n",
    "clean_html_table = html_table.replace('\\n', '')\n",
    "print(clean_html_table)"
   ]
  },
  {
   "cell_type": "code",
   "execution_count": 11,
   "id": "61d47750-3628-43ed-9583-6229227ab598",
   "metadata": {},
   "outputs": [],
   "source": [
    "# Saving the Mars Earth Comparison table directly to an HTML table string called \"table.html\"\n",
    "Mars_Table_HTML = Mars_Table.to_html('table.html')"
   ]
  },
  {
   "cell_type": "code",
   "execution_count": 12,
   "id": "817ffe9c-7a56-46f0-b687-8c42b6bcd7de",
   "metadata": {},
   "outputs": [
    {
     "name": "stdout",
     "output_type": "stream",
     "text": [
      "<table border=\"1\" class=\"dataframe\">\n",
      "  <thead>\n",
      "    <tr style=\"text-align: right;\">\n",
      "      <th></th>\n",
      "      <th>Dimentions</th>\n",
      "    </tr>\n",
      "    <tr>\n",
      "      <th>Mars Planet Profile</th>\n",
      "      <th></th>\n",
      "    </tr>\n",
      "  </thead>\n",
      "  <tbody>\n",
      "    <tr>\n",
      "      <th>Polar Diameter:</th>\n",
      "      <td>6,752 km</td>\n",
      "    </tr>\n",
      "    <tr>\n",
      "      <th>Mass:</th>\n",
      "      <td>6.39 × 10^23 kg (0.11 Earths)</td>\n",
      "    </tr>\n",
      "    <tr>\n",
      "      <th>Moons:</th>\n",
      "      <td>2 ( Phobos &amp; Deimos )</td>\n",
      "    </tr>\n",
      "    <tr>\n",
      "      <th>Orbit Distance:</th>\n",
      "      <td>227,943,824 km (1.38 AU)</td>\n",
      "    </tr>\n",
      "    <tr>\n",
      "      <th>Orbit Period:</th>\n",
      "      <td>687 days (1.9 years)</td>\n",
      "    </tr>\n",
      "    <tr>\n",
      "      <th>Surface Temperature:</th>\n",
      "      <td>-87 to -5 °C</td>\n",
      "    </tr>\n",
      "    <tr>\n",
      "      <th>First Record:</th>\n",
      "      <td>2nd millennium BC</td>\n",
      "    </tr>\n",
      "    <tr>\n",
      "      <th>Recorded By:</th>\n",
      "      <td>Egyptian astronomers</td>\n",
      "    </tr>\n",
      "  </tbody>\n",
      "</table>\n"
     ]
    }
   ],
   "source": [
    "# to print out html saved to file - \"table.html\"\n",
    "Mars_Table_HTML = Mars_Table.to_html()\n",
    "print(Mars_Table_HTML)"
   ]
  },
  {
   "cell_type": "markdown",
   "id": "db1a5873-230b-4a12-893d-7cc67b8df492",
   "metadata": {},
   "source": [
    "## MARS Hemispheres"
   ]
  },
  {
   "cell_type": "code",
   "execution_count": 13,
   "id": "aeffc75e-dfdf-477d-8aa5-a4db603a7a7a",
   "metadata": {},
   "outputs": [],
   "source": [
    "url_hemisphere = \"https://marshemispheres.com\"\n",
    "browser.visit(url_hemisphere)\n",
    "html_hemisphere = browser.html\n",
    "soup = BeautifulSoup (html_hemisphere, \"html.parser\")"
   ]
  },
  {
   "cell_type": "code",
   "execution_count": 14,
   "id": "d9efc4b1-e4a9-4cf3-a28f-ad091c38a358",
   "metadata": {},
   "outputs": [],
   "source": [
    "hemispheres = soup.find_all(\"div\", class_=\"item\")\n",
    "hemispheres_info = []\n",
    "hemispheres_url = \"https://marshemispheres.com/\"\n",
    "\n",
    "for i in hemispheres:\n",
    "    title = i.find(\"h3\").text\n",
    "    hemispheres_img = i.find(\"a\", class_=\"itemLink product-item\")[\"href\"]\n",
    "    \n",
    "    # Visit the link that contains the full image website \n",
    "    browser.visit(hemispheres_url + hemispheres_img)\n",
    "    \n",
    "    # HTML Object\n",
    "    image_html = browser.html\n",
    "    web_info = BeautifulSoup(image_html, \"html.parser\")\n",
    "    \n",
    "    # Create full image url\n",
    "    img_url = hemispheres_url + web_info.find(\"img\", class_=\"wide-image\")[\"src\"]\n",
    "    \n",
    "    hemispheres_info.append({\"title\" : title, \"img_url\" : img_url})"
   ]
  },
  {
   "cell_type": "code",
   "execution_count": 15,
   "id": "3da38f22-c6af-4792-9e67-49a2fe0358d1",
   "metadata": {},
   "outputs": [
    {
     "data": {
      "text/plain": [
       "[{'title': 'Cerberus Hemisphere Enhanced',\n",
       "  'img_url': 'https://marshemispheres.com/images/f5e372a36edfa389625da6d0cc25d905_cerberus_enhanced.tif_full.jpg'},\n",
       " {'title': 'Schiaparelli Hemisphere Enhanced',\n",
       "  'img_url': 'https://marshemispheres.com/images/3778f7b43bbbc89d6e3cfabb3613ba93_schiaparelli_enhanced.tif_full.jpg'},\n",
       " {'title': 'Syrtis Major Hemisphere Enhanced',\n",
       "  'img_url': 'https://marshemispheres.com/images/555e6403a6ddd7ba16ddb0e471cadcf7_syrtis_major_enhanced.tif_full.jpg'},\n",
       " {'title': 'Valles Marineris Hemisphere Enhanced',\n",
       "  'img_url': 'https://marshemispheres.com/images/b3c7c6c9138f57b4756be9b9c43e3a48_valles_marineris_enhanced.tif_full.jpg'}]"
      ]
     },
     "execution_count": 15,
     "metadata": {},
     "output_type": "execute_result"
    }
   ],
   "source": [
    "hemispheres_info"
   ]
  },
  {
   "cell_type": "code",
   "execution_count": 16,
   "id": "80abdeef-966f-40d1-af3b-319d231c12ff",
   "metadata": {},
   "outputs": [],
   "source": [
    "browser.quit()"
   ]
  }
 ],
 "metadata": {
  "kernelspec": {
   "display_name": "Python [conda env:root] *",
   "language": "python",
   "name": "conda-root-py"
  },
  "language_info": {
   "codemirror_mode": {
    "name": "ipython",
    "version": 3
   },
   "file_extension": ".py",
   "mimetype": "text/x-python",
   "name": "python",
   "nbconvert_exporter": "python",
   "pygments_lexer": "ipython3",
   "version": "3.8.5"
  }
 },
 "nbformat": 4,
 "nbformat_minor": 5
}
