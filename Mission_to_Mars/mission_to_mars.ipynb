{
 "cells": [
  {
   "cell_type": "code",
   "execution_count": 138,
   "id": "2b718737-c52c-43c8-afc6-398c8e29106d",
   "metadata": {},
   "outputs": [],
   "source": [
    "import pandas as pd\n",
    "import requests\n",
    "from splinter import Browser\n",
    "from bs4 import BeautifulSoup\n",
    "from flask import Flask, render_template, redirect, url_for\n",
    "from flask_pymongo import PyMongo\n",
    "import pymongo\n",
    "import datetime\n",
    "from webdriver_manager.chrome import ChromeDriverManager"
   ]
  },
  {
   "cell_type": "code",
   "execution_count": 139,
   "id": "28d1a9ad-ee1e-4064-ab1e-c1039fe57c72",
   "metadata": {},
   "outputs": [
    {
     "name": "stderr",
     "output_type": "stream",
     "text": [
      "\n",
      "\n",
      "====== WebDriver manager ======\n",
      "Current google-chrome version is 91.0.4472\n",
      "Get LATEST driver version for 91.0.4472\n",
      "Driver [C:\\Users\\lcswi\\.wdm\\drivers\\chromedriver\\win32\\91.0.4472.101\\chromedriver.exe] found in cache\n"
     ]
    }
   ],
   "source": [
    "# to setup splinter\n",
    "executable_path = {'executable_path': ChromeDriverManager().install()}\n",
    "browser = Browser('chrome', **executable_path, headless=False)"
   ]
  },
  {
   "cell_type": "markdown",
   "id": "775c98d0-6eaf-4942-ae53-34d599084b9d",
   "metadata": {},
   "source": [
    "## NASA Mars News - Scrape the Mars News Site and collect the latest News Title and Paragraph Text"
   ]
  },
  {
   "cell_type": "code",
   "execution_count": 140,
   "id": "e445be2b-af47-41c4-ab11-c55d62566da0",
   "metadata": {},
   "outputs": [],
   "source": [
    "# URL of page to be scraped\n",
    "url = 'https://redplanetscience.com/'\n",
    "browser.visit(url)"
   ]
  },
  {
   "cell_type": "code",
   "execution_count": 141,
   "id": "85c9461f-edb2-4f96-84ae-3a53dfb5ac81",
   "metadata": {},
   "outputs": [],
   "source": [
    "html = browser.html\n",
    "# Create BeautifulSoup object; parse with 'html.parser'\n",
    "soup = BeautifulSoup(html, 'html.parser')"
   ]
  },
  {
   "cell_type": "code",
   "execution_count": 142,
   "id": "ec101402-e7cf-4545-8dc8-4df0b8570712",
   "metadata": {},
   "outputs": [
    {
     "name": "stdout",
     "output_type": "stream",
     "text": [
      "NASA's Perseverance Rover Mission Getting in Shape for Launch\n",
      "---------------------------------------------------------------------------\n",
      "Stacking spacecraft components on top of each other is one of the final assembly steps before a mission launches to the Red Planet. \n"
     ]
    }
   ],
   "source": [
    "news_title = soup.find_all('div', class_='content_title')[0].text\n",
    "news_p = soup.find_all('div', class_='article_teaser_body')[0].text\n",
    "\n",
    "print(news_title)\n",
    "print('---------------------------------------------------------------------------')\n",
    "print(news_p)"
   ]
  },
  {
   "cell_type": "markdown",
   "id": "c2ff75bd-ea32-4cea-a84f-fc912aa6ba41",
   "metadata": {},
   "source": [
    "## JPL Mars Space Images - Featured Image "
   ]
  },
  {
   "cell_type": "code",
   "execution_count": 143,
   "id": "127e5dd6-2ba6-4325-bb21-94e3ff8818c4",
   "metadata": {},
   "outputs": [],
   "source": [
    "# URL of page to be scraped\n",
    "url = 'https://spaceimages-mars.com/'\n",
    "browser.visit(url)"
   ]
  },
  {
   "cell_type": "code",
   "execution_count": 144,
   "id": "4b85bb9e-6505-40c4-b6e1-31b815e06f0c",
   "metadata": {},
   "outputs": [],
   "source": [
    "# Create BeautifulSoup object; parse with 'html.parser'\n",
    "html = browser.html\n",
    "soup_JPL = BeautifulSoup(html, 'html.parser')"
   ]
  },
  {
   "cell_type": "code",
   "execution_count": 145,
   "id": "0a6fd108-5509-4868-b8a8-7aeb35abee38",
   "metadata": {},
   "outputs": [
    {
     "name": "stdout",
     "output_type": "stream",
     "text": [
      "https://spaceimages-mars.com/image/featured/mars2.jpg\n"
     ]
    }
   ],
   "source": [
    "# identify and return the url string for the featured_image_url \n",
    "image_path = soup_JPL.find_all('img')[1]['src']\n",
    "featured_image_url = url + image_path\n",
    "print(featured_image_url)"
   ]
  },
  {
   "cell_type": "markdown",
   "id": "35cbab3d-c119-44f8-841f-0455631e95a7",
   "metadata": {},
   "source": [
    "## MARS Facts"
   ]
  },
  {
   "cell_type": "code",
   "execution_count": null,
   "id": "b612abf8-3a39-4c0f-a15a-7251b3a37200",
   "metadata": {},
   "outputs": [],
   "source": []
  }
 ],
 "metadata": {
  "kernelspec": {
   "display_name": "Python [conda env:root] *",
   "language": "python",
   "name": "conda-root-py"
  },
  "language_info": {
   "codemirror_mode": {
    "name": "ipython",
    "version": 3
   },
   "file_extension": ".py",
   "mimetype": "text/x-python",
   "name": "python",
   "nbconvert_exporter": "python",
   "pygments_lexer": "ipython3",
   "version": "3.8.5"
  }
 },
 "nbformat": 4,
 "nbformat_minor": 5
}
